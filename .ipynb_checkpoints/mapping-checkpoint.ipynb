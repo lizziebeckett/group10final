{
 "cells": [
  {
   "cell_type": "code",
   "execution_count": 218,
   "id": "59432815",
   "metadata": {},
   "outputs": [],
   "source": [
    "import pandas as pd\n",
    "import geopandas as gpd\n",
    "from shapely.geometry import Point\n",
    "import folium"
   ]
  },
  {
   "cell_type": "code",
   "execution_count": 219,
   "id": "2ddc5eaf",
   "metadata": {},
   "outputs": [],
   "source": [
    "months = ['Jan', 'Feb', 'Mar', 'Apr', 'May', 'Jun', 'Jul', 'Aug', 'Sep', 'Oct', 'Nov', 'Dec']\n",
    "month_dict = {i: months[i-1] for i in range(0, 13)}"
   ]
  },
  {
   "cell_type": "code",
   "execution_count": 444,
   "id": "1efda2cb",
   "metadata": {},
   "outputs": [
    {
     "data": {
      "text/html": [
       "<div>\n",
       "<style scoped>\n",
       "    .dataframe tbody tr th:only-of-type {\n",
       "        vertical-align: middle;\n",
       "    }\n",
       "\n",
       "    .dataframe tbody tr th {\n",
       "        vertical-align: top;\n",
       "    }\n",
       "\n",
       "    .dataframe thead th {\n",
       "        text-align: right;\n",
       "    }\n",
       "</style>\n",
       "<table border=\"1\" class=\"dataframe\">\n",
       "  <thead>\n",
       "    <tr style=\"text-align: right;\">\n",
       "      <th></th>\n",
       "      <th>Unnamed: 0</th>\n",
       "      <th>OFFENSE_CODE</th>\n",
       "      <th>SHOOTING</th>\n",
       "      <th>OCCURRED_ON_DATE</th>\n",
       "      <th>YEAR</th>\n",
       "      <th>MONTH</th>\n",
       "      <th>DAY_OF_WEEK</th>\n",
       "      <th>HOUR</th>\n",
       "      <th>UCR_PART</th>\n",
       "      <th>STREET</th>\n",
       "      <th>Lat</th>\n",
       "      <th>Long</th>\n",
       "      <th>Location</th>\n",
       "      <th>THEME</th>\n",
       "      <th>SERIOUS</th>\n",
       "      <th>MILES_FROM_NU</th>\n",
       "      <th>DATE</th>\n",
       "    </tr>\n",
       "  </thead>\n",
       "  <tbody>\n",
       "    <tr>\n",
       "      <th>0</th>\n",
       "      <td>0</td>\n",
       "      <td>3115</td>\n",
       "      <td>0</td>\n",
       "      <td>2023-01-27 22:44:00+00</td>\n",
       "      <td>2023</td>\n",
       "      <td>1</td>\n",
       "      <td>Friday</td>\n",
       "      <td>22</td>\n",
       "      <td>NaN</td>\n",
       "      <td>FAVRE ST</td>\n",
       "      <td>42.271661</td>\n",
       "      <td>-71.099535</td>\n",
       "      <td>(42.271661031027065, -71.09953455161765)</td>\n",
       "      <td>REPORT</td>\n",
       "      <td>0</td>\n",
       "      <td>4.735747</td>\n",
       "      <td>2023 1</td>\n",
       "    </tr>\n",
       "    <tr>\n",
       "      <th>1</th>\n",
       "      <td>1</td>\n",
       "      <td>3301</td>\n",
       "      <td>0</td>\n",
       "      <td>2023-01-17 20:21:00+00</td>\n",
       "      <td>2023</td>\n",
       "      <td>1</td>\n",
       "      <td>Tuesday</td>\n",
       "      <td>20</td>\n",
       "      <td>NaN</td>\n",
       "      <td>HAROLD ST</td>\n",
       "      <td>42.312596</td>\n",
       "      <td>-71.092876</td>\n",
       "      <td>(42.3125962960786, -71.09287583752645)</td>\n",
       "      <td>NOISY</td>\n",
       "      <td>0</td>\n",
       "      <td>1.890701</td>\n",
       "      <td>2023 1</td>\n",
       "    </tr>\n",
       "    <tr>\n",
       "      <th>2</th>\n",
       "      <td>2</td>\n",
       "      <td>3115</td>\n",
       "      <td>0</td>\n",
       "      <td>2023-01-24 00:00:00+00</td>\n",
       "      <td>2023</td>\n",
       "      <td>1</td>\n",
       "      <td>Tuesday</td>\n",
       "      <td>0</td>\n",
       "      <td>NaN</td>\n",
       "      <td>HANOVER ST</td>\n",
       "      <td>42.365699</td>\n",
       "      <td>-71.052892</td>\n",
       "      <td>(42.3656993584582, -71.05289203191269)</td>\n",
       "      <td>REPORT</td>\n",
       "      <td>0</td>\n",
       "      <td>2.600130</td>\n",
       "      <td>2023 1</td>\n",
       "    </tr>\n",
       "    <tr>\n",
       "      <th>3</th>\n",
       "      <td>3</td>\n",
       "      <td>3114</td>\n",
       "      <td>0</td>\n",
       "      <td>2023-03-31 17:14:00+00</td>\n",
       "      <td>2023</td>\n",
       "      <td>3</td>\n",
       "      <td>Friday</td>\n",
       "      <td>17</td>\n",
       "      <td>NaN</td>\n",
       "      <td>BLUE HILL AVE</td>\n",
       "      <td>42.292788</td>\n",
       "      <td>-71.088520</td>\n",
       "      <td>(42.29278799134922, -71.08851953962399)</td>\n",
       "      <td>REPORT</td>\n",
       "      <td>0</td>\n",
       "      <td>3.252513</td>\n",
       "      <td>2023 3</td>\n",
       "    </tr>\n",
       "    <tr>\n",
       "      <th>4</th>\n",
       "      <td>4</td>\n",
       "      <td>423</td>\n",
       "      <td>0</td>\n",
       "      <td>2023-01-26 09:00:00+00</td>\n",
       "      <td>2023</td>\n",
       "      <td>1</td>\n",
       "      <td>Thursday</td>\n",
       "      <td>9</td>\n",
       "      <td>NaN</td>\n",
       "      <td>HUTCHINGS ST</td>\n",
       "      <td>42.310269</td>\n",
       "      <td>-71.089311</td>\n",
       "      <td>(42.310268910354935, -71.08931055058088)</td>\n",
       "      <td>ASSAULT</td>\n",
       "      <td>1</td>\n",
       "      <td>2.045410</td>\n",
       "      <td>2023 1</td>\n",
       "    </tr>\n",
       "  </tbody>\n",
       "</table>\n",
       "</div>"
      ],
      "text/plain": [
       "   Unnamed: 0  OFFENSE_CODE  SHOOTING        OCCURRED_ON_DATE  YEAR  MONTH  \\\n",
       "0           0          3115         0  2023-01-27 22:44:00+00  2023      1   \n",
       "1           1          3301         0  2023-01-17 20:21:00+00  2023      1   \n",
       "2           2          3115         0  2023-01-24 00:00:00+00  2023      1   \n",
       "3           3          3114         0  2023-03-31 17:14:00+00  2023      3   \n",
       "4           4           423         0  2023-01-26 09:00:00+00  2023      1   \n",
       "\n",
       "  DAY_OF_WEEK  HOUR  UCR_PART         STREET        Lat       Long  \\\n",
       "0   Friday       22       NaN       FAVRE ST  42.271661 -71.099535   \n",
       "1   Tuesday      20       NaN      HAROLD ST  42.312596 -71.092876   \n",
       "2   Tuesday       0       NaN     HANOVER ST  42.365699 -71.052892   \n",
       "3   Friday       17       NaN  BLUE HILL AVE  42.292788 -71.088520   \n",
       "4   Thursday      9       NaN   HUTCHINGS ST  42.310269 -71.089311   \n",
       "\n",
       "                                   Location    THEME  SERIOUS  MILES_FROM_NU  \\\n",
       "0  (42.271661031027065, -71.09953455161765)   REPORT        0       4.735747   \n",
       "1    (42.3125962960786, -71.09287583752645)    NOISY        0       1.890701   \n",
       "2    (42.3656993584582, -71.05289203191269)   REPORT        0       2.600130   \n",
       "3   (42.29278799134922, -71.08851953962399)   REPORT        0       3.252513   \n",
       "4  (42.310268910354935, -71.08931055058088)  ASSAULT        1       2.045410   \n",
       "\n",
       "     DATE  \n",
       "0  2023 1  \n",
       "1  2023 1  \n",
       "2  2023 1  \n",
       "3  2023 3  \n",
       "4  2023 1  "
      ]
     },
     "execution_count": 444,
     "metadata": {},
     "output_type": "execute_result"
    }
   ],
   "source": [
    "pd_data = pd.read_csv('pd_data_clean.csv')\n",
    "pd_data = pd_data.dropna(subset=['Location'])\n",
    "strs = []\n",
    "for i in range(len(pd_data)):\n",
    "    month = (pd_data.iloc[i]['MONTH'].astype(int))\n",
    "    year = pd_data.iloc[i]['YEAR']\n",
    "    strs.append(f'{year} {month}')\n",
    "pd_data['DATE'] = strs\n",
    "pd_data.head()"
   ]
  },
  {
   "cell_type": "code",
   "execution_count": 445,
   "id": "ef2bf01c",
   "metadata": {},
   "outputs": [],
   "source": [
    "def get_point(loc):\n",
    "    loc = str(loc)\n",
    "    loc = loc.strip(\"()\").split(',')\n",
    "    lat, long = map(float, loc)\n",
    "    point = Point(long, lat)\n",
    "    return point"
   ]
  },
  {
   "cell_type": "code",
   "execution_count": 446,
   "id": "6fa6738f",
   "metadata": {},
   "outputs": [],
   "source": [
    "pd_data['Coordinates'] = pd_data['Location'].apply(get_point)\n",
    "gdf = gpd.GeoDataFrame(pd_data, geometry='Coordinates')"
   ]
  },
  {
   "cell_type": "code",
   "execution_count": 447,
   "id": "6b5c4c82",
   "metadata": {},
   "outputs": [],
   "source": [
    "boston_bg = gpd.read_file('2020_Census_Block_Groups_in_Boston.shp')"
   ]
  },
  {
   "cell_type": "code",
   "execution_count": 448,
   "id": "25b9ef66",
   "metadata": {},
   "outputs": [],
   "source": [
    "gdf = gdf.set_crs(\"EPSG:4326\")\n",
    "#gdf = gdf.to_crs('EPSG:2249')\n",
    "boston_bg = boston_bg.set_crs('EPSG:2249', allow_override=True)\n",
    "boston_bg = boston_bg.to_crs('EPSG:4326')"
   ]
  },
  {
   "cell_type": "code",
   "execution_count": 449,
   "id": "4b731f0c",
   "metadata": {},
   "outputs": [
    {
     "name": "stdout",
     "output_type": "stream",
     "text": [
      "EPSG:4326\n",
      "EPSG:4326\n"
     ]
    }
   ],
   "source": [
    "print(gdf.crs)  # Check CRS of the GeoDataFrame\n",
    "print(boston_bg.crs)"
   ]
  },
  {
   "cell_type": "code",
   "execution_count": 450,
   "id": "3e3c5388",
   "metadata": {},
   "outputs": [],
   "source": [
    "joined_gdf = gpd.sjoin(gdf, boston_bg, how='right', predicate='within')"
   ]
  },
  {
   "cell_type": "code",
   "execution_count": 451,
   "id": "5530ebb5",
   "metadata": {},
   "outputs": [],
   "source": [
    "joined_df = joined_gdf.set_geometry('geometry', crs = 'EPSG:4326')"
   ]
  },
  {
   "cell_type": "code",
   "execution_count": 452,
   "id": "5f5da4ce",
   "metadata": {},
   "outputs": [],
   "source": [
    "to_map = gpd.GeoDataFrame(joined_gdf.groupby(['DATE', 'geometry'], as_index = False)['SERIOUS'].sum())\n",
    "to_map = to_map.set_geometry('geometry', crs = 'EPSG:4326')"
   ]
  },
  {
   "cell_type": "code",
   "execution_count": 453,
   "id": "e6943d0b",
   "metadata": {},
   "outputs": [],
   "source": [
    "to_map['DATE'] = pd.to_datetime(to_map['DATE'], format='%Y %m')\n",
    "to_map['DATE'] = to_map['DATE'].dt.strftime('%Y-%m')"
   ]
  },
  {
   "cell_type": "code",
   "execution_count": 460,
   "id": "0261497c",
   "metadata": {},
   "outputs": [
    {
     "data": {
      "text/plain": [
       "0        POLYGON ((-71.17702 42.2804, -71.17555 42.2803...\n",
       "1        POLYGON ((-71.1726 42.27157, -71.17225 42.2719...\n",
       "2        POLYGON ((-71.16631 42.26968, -71.16615 42.270...\n",
       "3        POLYGON ((-71.16351 42.26259, -71.16345 42.262...\n",
       "4        POLYGON ((-71.16739 42.2622, -71.16711 42.2650...\n",
       "                               ...                        \n",
       "12572    POLYGON ((-71.05469 42.28034, -71.05399 42.280...\n",
       "12573    POLYGON ((-71.05147 42.28931, -71.05136 42.289...\n",
       "12574    POLYGON ((-71.0475 42.29864, -71.04737 42.2987...\n",
       "12575    POLYGON ((-71.06818 42.27134, -71.06809 42.271...\n",
       "12576    POLYGON ((-71.07214 42.27531, -71.07208 42.275...\n",
       "Name: geometry, Length: 12577, dtype: geometry"
      ]
     },
     "execution_count": 460,
     "metadata": {},
     "output_type": "execute_result"
    }
   ],
   "source": [
    "to_map.geometry"
   ]
  },
  {
   "cell_type": "code",
   "execution_count": 462,
   "id": "df89714c",
   "metadata": {},
   "outputs": [],
   "source": [
    "import plotly.express as px\n",
    "import json\n",
    "\n",
    "\n",
    "fig = px.choropleth_mapbox(to_map, geojson = to_map.geometry, color = \"SERIOUS\", \n",
    "                           mapbox_style=\"carto-positron\", animation_frame = 'DATE')"
   ]
  },
  {
   "cell_type": "code",
   "execution_count": null,
   "id": "a5ee2179",
   "metadata": {},
   "outputs": [],
   "source": [
    "fig.update_layout(\n",
    "    mapbox_center={\"lat\": 42.0, \"lon\": -71.0},  # Change to your region\n",
    "    mapbox_zoom=5  # Adjust zoom level as necessary\n",
    ")"
   ]
  },
  {
   "cell_type": "code",
   "execution_count": null,
   "id": "59e6ecb1",
   "metadata": {},
   "outputs": [],
   "source": [
    "fig.show()"
   ]
  }
 ],
 "metadata": {
  "kernelspec": {
   "display_name": "Python 3 (ipykernel)",
   "language": "python",
   "name": "python3"
  },
  "language_info": {
   "codemirror_mode": {
    "name": "ipython",
    "version": 3
   },
   "file_extension": ".py",
   "mimetype": "text/x-python",
   "name": "python",
   "nbconvert_exporter": "python",
   "pygments_lexer": "ipython3",
   "version": "3.9.18"
  }
 },
 "nbformat": 4,
 "nbformat_minor": 5
}
