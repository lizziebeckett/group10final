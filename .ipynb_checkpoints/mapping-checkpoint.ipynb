{
 "cells": [
  {
   "cell_type": "code",
   "execution_count": 314,
   "id": "59432815",
   "metadata": {},
   "outputs": [],
   "source": [
    "import pandas as pd\n",
    "import geopandas as gpd\n",
    "from shapely.geometry import Point\n",
    "import folium"
   ]
  },
  {
   "cell_type": "code",
   "execution_count": 315,
   "id": "1efda2cb",
   "metadata": {},
   "outputs": [
    {
     "data": {
      "text/html": [
       "<div>\n",
       "<style scoped>\n",
       "    .dataframe tbody tr th:only-of-type {\n",
       "        vertical-align: middle;\n",
       "    }\n",
       "\n",
       "    .dataframe tbody tr th {\n",
       "        vertical-align: top;\n",
       "    }\n",
       "\n",
       "    .dataframe thead th {\n",
       "        text-align: right;\n",
       "    }\n",
       "</style>\n",
       "<table border=\"1\" class=\"dataframe\">\n",
       "  <thead>\n",
       "    <tr style=\"text-align: right;\">\n",
       "      <th></th>\n",
       "      <th>Unnamed: 0</th>\n",
       "      <th>OFFENSE_CODE</th>\n",
       "      <th>SHOOTING</th>\n",
       "      <th>OCCURRED_ON_DATE</th>\n",
       "      <th>YEAR</th>\n",
       "      <th>MONTH</th>\n",
       "      <th>DAY_OF_WEEK</th>\n",
       "      <th>HOUR</th>\n",
       "      <th>UCR_PART</th>\n",
       "      <th>STREET</th>\n",
       "      <th>Lat</th>\n",
       "      <th>Long</th>\n",
       "      <th>Location</th>\n",
       "      <th>THEME</th>\n",
       "      <th>SERIOUS</th>\n",
       "      <th>DIST_FROM_NU</th>\n",
       "      <th>MILES_FROM_NU</th>\n",
       "    </tr>\n",
       "  </thead>\n",
       "  <tbody>\n",
       "    <tr>\n",
       "      <th>0</th>\n",
       "      <td>0</td>\n",
       "      <td>3115</td>\n",
       "      <td>0</td>\n",
       "      <td>2023-01-27 22:44:00+00</td>\n",
       "      <td>2023</td>\n",
       "      <td>1</td>\n",
       "      <td>Friday</td>\n",
       "      <td>22</td>\n",
       "      <td>NaN</td>\n",
       "      <td>FAVRE ST</td>\n",
       "      <td>42.271661</td>\n",
       "      <td>-71.099535</td>\n",
       "      <td>(42.271661031027065, -71.09953455161765)</td>\n",
       "      <td>REPORT</td>\n",
       "      <td>0</td>\n",
       "      <td>4.735747</td>\n",
       "      <td>4.735747</td>\n",
       "    </tr>\n",
       "    <tr>\n",
       "      <th>1</th>\n",
       "      <td>1</td>\n",
       "      <td>3301</td>\n",
       "      <td>0</td>\n",
       "      <td>2023-01-17 20:21:00+00</td>\n",
       "      <td>2023</td>\n",
       "      <td>1</td>\n",
       "      <td>Tuesday</td>\n",
       "      <td>20</td>\n",
       "      <td>NaN</td>\n",
       "      <td>HAROLD ST</td>\n",
       "      <td>42.312596</td>\n",
       "      <td>-71.092876</td>\n",
       "      <td>(42.3125962960786, -71.09287583752645)</td>\n",
       "      <td>NOISY</td>\n",
       "      <td>0</td>\n",
       "      <td>1.890701</td>\n",
       "      <td>1.890701</td>\n",
       "    </tr>\n",
       "    <tr>\n",
       "      <th>2</th>\n",
       "      <td>2</td>\n",
       "      <td>3115</td>\n",
       "      <td>0</td>\n",
       "      <td>2023-01-24 00:00:00+00</td>\n",
       "      <td>2023</td>\n",
       "      <td>1</td>\n",
       "      <td>Tuesday</td>\n",
       "      <td>0</td>\n",
       "      <td>NaN</td>\n",
       "      <td>HANOVER ST</td>\n",
       "      <td>42.365699</td>\n",
       "      <td>-71.052892</td>\n",
       "      <td>(42.3656993584582, -71.05289203191269)</td>\n",
       "      <td>REPORT</td>\n",
       "      <td>0</td>\n",
       "      <td>2.600130</td>\n",
       "      <td>2.600130</td>\n",
       "    </tr>\n",
       "    <tr>\n",
       "      <th>3</th>\n",
       "      <td>3</td>\n",
       "      <td>3114</td>\n",
       "      <td>0</td>\n",
       "      <td>2023-03-31 17:14:00+00</td>\n",
       "      <td>2023</td>\n",
       "      <td>3</td>\n",
       "      <td>Friday</td>\n",
       "      <td>17</td>\n",
       "      <td>NaN</td>\n",
       "      <td>BLUE HILL AVE</td>\n",
       "      <td>42.292788</td>\n",
       "      <td>-71.088520</td>\n",
       "      <td>(42.29278799134922, -71.08851953962399)</td>\n",
       "      <td>REPORT</td>\n",
       "      <td>0</td>\n",
       "      <td>3.252513</td>\n",
       "      <td>3.252513</td>\n",
       "    </tr>\n",
       "    <tr>\n",
       "      <th>4</th>\n",
       "      <td>4</td>\n",
       "      <td>423</td>\n",
       "      <td>0</td>\n",
       "      <td>2023-01-26 09:00:00+00</td>\n",
       "      <td>2023</td>\n",
       "      <td>1</td>\n",
       "      <td>Thursday</td>\n",
       "      <td>9</td>\n",
       "      <td>NaN</td>\n",
       "      <td>HUTCHINGS ST</td>\n",
       "      <td>42.310269</td>\n",
       "      <td>-71.089311</td>\n",
       "      <td>(42.310268910354935, -71.08931055058088)</td>\n",
       "      <td>ASSAULT</td>\n",
       "      <td>1</td>\n",
       "      <td>2.045410</td>\n",
       "      <td>2.045410</td>\n",
       "    </tr>\n",
       "  </tbody>\n",
       "</table>\n",
       "</div>"
      ],
      "text/plain": [
       "   Unnamed: 0  OFFENSE_CODE  SHOOTING        OCCURRED_ON_DATE  YEAR  MONTH  \\\n",
       "0           0          3115         0  2023-01-27 22:44:00+00  2023      1   \n",
       "1           1          3301         0  2023-01-17 20:21:00+00  2023      1   \n",
       "2           2          3115         0  2023-01-24 00:00:00+00  2023      1   \n",
       "3           3          3114         0  2023-03-31 17:14:00+00  2023      3   \n",
       "4           4           423         0  2023-01-26 09:00:00+00  2023      1   \n",
       "\n",
       "  DAY_OF_WEEK  HOUR  UCR_PART         STREET        Lat       Long  \\\n",
       "0   Friday       22       NaN       FAVRE ST  42.271661 -71.099535   \n",
       "1   Tuesday      20       NaN      HAROLD ST  42.312596 -71.092876   \n",
       "2   Tuesday       0       NaN     HANOVER ST  42.365699 -71.052892   \n",
       "3   Friday       17       NaN  BLUE HILL AVE  42.292788 -71.088520   \n",
       "4   Thursday      9       NaN   HUTCHINGS ST  42.310269 -71.089311   \n",
       "\n",
       "                                   Location    THEME  SERIOUS  DIST_FROM_NU  \\\n",
       "0  (42.271661031027065, -71.09953455161765)   REPORT        0      4.735747   \n",
       "1    (42.3125962960786, -71.09287583752645)    NOISY        0      1.890701   \n",
       "2    (42.3656993584582, -71.05289203191269)   REPORT        0      2.600130   \n",
       "3   (42.29278799134922, -71.08851953962399)   REPORT        0      3.252513   \n",
       "4  (42.310268910354935, -71.08931055058088)  ASSAULT        1      2.045410   \n",
       "\n",
       "   MILES_FROM_NU  \n",
       "0       4.735747  \n",
       "1       1.890701  \n",
       "2       2.600130  \n",
       "3       3.252513  \n",
       "4       2.045410  "
      ]
     },
     "execution_count": 315,
     "metadata": {},
     "output_type": "execute_result"
    }
   ],
   "source": [
    "pd_data = pd.read_csv('pd_data_clean')\n",
    "pd_data = pd_data.dropna(subset=['Location'])\n",
    "pd_data.head()"
   ]
  },
  {
   "cell_type": "code",
   "execution_count": 316,
   "id": "ef2bf01c",
   "metadata": {},
   "outputs": [],
   "source": [
    "def get_point(loc):\n",
    "    loc = str(loc)\n",
    "    loc = loc.strip(\"()\").split(',')\n",
    "    lat, long = map(float, loc)\n",
    "    point = Point(long, lat)\n",
    "    return point"
   ]
  },
  {
   "cell_type": "code",
   "execution_count": 317,
   "id": "6fa6738f",
   "metadata": {},
   "outputs": [],
   "source": [
    "pd_data['Coordinates'] = pd_data['Location'].apply(get_point)\n",
    "gdf = gpd.GeoDataFrame(pd_data, geometry='Coordinates')"
   ]
  },
  {
   "cell_type": "code",
   "execution_count": 318,
   "id": "6b5c4c82",
   "metadata": {},
   "outputs": [],
   "source": [
    "boston_bg = gpd.read_file('2020_Census_Block_Groups_in_Boston.shp')"
   ]
  },
  {
   "cell_type": "code",
   "execution_count": 319,
   "id": "25b9ef66",
   "metadata": {},
   "outputs": [],
   "source": [
    "gdf = gdf.set_crs(\"EPSG:4326\")\n",
    "gdf = gdf.to_crs('EPSG:26986')\n",
    "boston_bg = boston_bg.set_crs('EPSG:2249', allow_override=True)\n",
    "boston_bg = boston_bg.to_crs('EPSG:26986')"
   ]
  },
  {
   "cell_type": "code",
   "execution_count": 320,
   "id": "4b731f0c",
   "metadata": {},
   "outputs": [
    {
     "name": "stdout",
     "output_type": "stream",
     "text": [
      "EPSG:26986\n",
      "EPSG:26986\n"
     ]
    }
   ],
   "source": [
    "print(gdf.crs)  # Check CRS of the GeoDataFrame\n",
    "print(boston_bg.crs)"
   ]
  },
  {
   "cell_type": "code",
   "execution_count": 327,
   "id": "3e3c5388",
   "metadata": {},
   "outputs": [],
   "source": [
    "joined_gdf = gpd.sjoin(gdf, boston_bg, how='right', predicate='within')"
   ]
  },
  {
   "cell_type": "code",
   "execution_count": 341,
   "id": "5530ebb5",
   "metadata": {},
   "outputs": [],
   "source": [
    "joined_gdf['geometry2'] = joined_gdf['geometry']"
   ]
  },
  {
   "cell_type": "code",
   "execution_count": 350,
   "id": "5f5da4ce",
   "metadata": {},
   "outputs": [],
   "source": [
    "to_map = pd.DataFrame(joined_gdf.groupby('geometry2')['SERIOUS'].sum())\n",
    "to_map['geometry'] = to_map.index\n",
    "to_map = to_map.set_geometry('geometry')"
   ]
  },
  {
   "cell_type": "code",
   "execution_count": 351,
   "id": "9433857e",
   "metadata": {},
   "outputs": [
    {
     "data": {
      "text/html": [
       "<div>\n",
       "<style scoped>\n",
       "    .dataframe tbody tr th:only-of-type {\n",
       "        vertical-align: middle;\n",
       "    }\n",
       "\n",
       "    .dataframe tbody tr th {\n",
       "        vertical-align: top;\n",
       "    }\n",
       "\n",
       "    .dataframe thead th {\n",
       "        text-align: right;\n",
       "    }\n",
       "</style>\n",
       "<table border=\"1\" class=\"dataframe\">\n",
       "  <thead>\n",
       "    <tr style=\"text-align: right;\">\n",
       "      <th></th>\n",
       "      <th>SERIOUS</th>\n",
       "      <th>geometry</th>\n",
       "    </tr>\n",
       "    <tr>\n",
       "      <th>geometry2</th>\n",
       "      <th></th>\n",
       "      <th></th>\n",
       "    </tr>\n",
       "  </thead>\n",
       "  <tbody>\n",
       "    <tr>\n",
       "      <th>POLYGON ((226640.688 892264.489, 226761.725 89...</th>\n",
       "      <td>76</td>\n",
       "      <td>POLYGON ((226640.688 892264.489, 226761.725 89...</td>\n",
       "    </tr>\n",
       "    <tr>\n",
       "      <th>POLYGON ((227008.613 891284.983, 227037.343 89...</th>\n",
       "      <td>69</td>\n",
       "      <td>POLYGON ((227008.613 891284.983, 227037.343 89...</td>\n",
       "    </tr>\n",
       "    <tr>\n",
       "      <th>POLYGON ((227528.735 891077.066, 227541.693 89...</th>\n",
       "      <td>11</td>\n",
       "      <td>POLYGON ((227528.735 891077.066, 227541.693 89...</td>\n",
       "    </tr>\n",
       "    <tr>\n",
       "      <th>POLYGON ((227762.501 890290.571, 227767.443 89...</th>\n",
       "      <td>35</td>\n",
       "      <td>POLYGON ((227762.501 890290.571, 227767.443 89...</td>\n",
       "    </tr>\n",
       "    <tr>\n",
       "      <th>POLYGON ((227442.302 890245.551, 227464.497 89...</th>\n",
       "      <td>15</td>\n",
       "      <td>POLYGON ((227442.302 890245.551, 227464.497 89...</td>\n",
       "    </tr>\n",
       "  </tbody>\n",
       "</table>\n",
       "</div>"
      ],
      "text/plain": [
       "                                                   SERIOUS  \\\n",
       "geometry2                                                    \n",
       "POLYGON ((226640.688 892264.489, 226761.725 89...       76   \n",
       "POLYGON ((227008.613 891284.983, 227037.343 89...       69   \n",
       "POLYGON ((227528.735 891077.066, 227541.693 89...       11   \n",
       "POLYGON ((227762.501 890290.571, 227767.443 89...       35   \n",
       "POLYGON ((227442.302 890245.551, 227464.497 89...       15   \n",
       "\n",
       "                                                                                            geometry  \n",
       "geometry2                                                                                             \n",
       "POLYGON ((226640.688 892264.489, 226761.725 89...  POLYGON ((226640.688 892264.489, 226761.725 89...  \n",
       "POLYGON ((227008.613 891284.983, 227037.343 89...  POLYGON ((227008.613 891284.983, 227037.343 89...  \n",
       "POLYGON ((227528.735 891077.066, 227541.693 89...  POLYGON ((227528.735 891077.066, 227541.693 89...  \n",
       "POLYGON ((227762.501 890290.571, 227767.443 89...  POLYGON ((227762.501 890290.571, 227767.443 89...  \n",
       "POLYGON ((227442.302 890245.551, 227464.497 89...  POLYGON ((227442.302 890245.551, 227464.497 89...  "
      ]
     },
     "execution_count": 351,
     "metadata": {},
     "output_type": "execute_result"
    }
   ],
   "source": [
    "to_map.head()"
   ]
  },
  {
   "cell_type": "code",
   "execution_count": 357,
   "id": "2043f57d",
   "metadata": {},
   "outputs": [
    {
     "data": {
      "image/png": "[encoded data removed]",
      "text/plain": [
       "<Figure size 640x480 with 2 Axes>"
      ]
     },
     "metadata": {},
     "output_type": "display_data"
    }
   ],
   "source": [
    "import matplotlib.pyplot as plt\n",
    "\n",
    "#base = boston_bg.plot(color='lightgrey', edgecolor='black')\n",
    "to_map.plot(column = 'SERIOUS', cmap = 'Reds', legend = True)\n",
    "plt.show()\n"
   ]
  },
  {
   "cell_type": "code",
   "execution_count": null,
   "id": "2f0e435e",
   "metadata": {},
   "outputs": [],
   "source": []
  },
  {
   "cell_type": "code",
   "execution_count": null,
   "id": "40f34326",
   "metadata": {},
   "outputs": [],
   "source": []
  },
  {
   "cell_type": "code",
   "execution_count": null,
   "id": "5ac0ec0f",
   "metadata": {},
   "outputs": [],
   "source": []
  }
 ],
 "metadata": {
  "kernelspec": {
   "display_name": "Python 3 (ipykernel)",
   "language": "python",
   "name": "python3"
  },
  "language_info": {
   "codemirror_mode": {
    "name": "ipython",
    "version": 3
   },
   "file_extension": ".py",
   "mimetype": "text/x-python",
   "name": "python",
   "nbconvert_exporter": "python",
   "pygments_lexer": "ipython3",
   "version": "3.9.18"
  }
 },
 "nbformat": 4,
 "nbformat_minor": 5
}
