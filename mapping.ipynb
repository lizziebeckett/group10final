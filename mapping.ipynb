{
 "cells": [
  {
   "cell_type": "code",
   "execution_count": 3,
   "id": "59432815",
   "metadata": {},
   "outputs": [],
   "source": [
    "import pandas as pd\n",
    "import geopandas as gpd\n",
    "from shapely.geometry import Point\n",
    "import folium"
   ]
  },
  {
   "cell_type": "code",
   "execution_count": 4,
   "id": "2ddc5eaf",
   "metadata": {},
   "outputs": [],
   "source": [
    "months = ['Jan', 'Feb', 'Mar', 'Apr', 'May', 'Jun', 'Jul', 'Aug', 'Sep', 'Oct', 'Nov', 'Dec']\n",
    "month_dict = {i: months[i-1] for i in range(0, 13)}"
   ]
  },
  {
   "cell_type": "code",
   "execution_count": null,
   "id": "1efda2cb",
   "metadata": {},
   "outputs": [],
   "source": [
    "pd_data = pd.read_csv('pd_data_clean.csv')\n",
    "pd_data = pd_data.dropna(subset=['Location'])\n",
    "strs = []\n",
    "for i in range(len(pd_data)):\n",
    "    month = (pd_data.iloc[i]['MONTH'].astype(int))\n",
    "    year = pd_data.iloc[i]['YEAR']\n",
    "    strs.append(f'{year} {month}')\n",
    "pd_data['DATE'] = strs\n",
    "pd_data.head()"
   ]
  },
  {
   "cell_type": "code",
   "execution_count": null,
   "id": "ef2bf01c",
   "metadata": {},
   "outputs": [],
   "source": [
    "def get_point(loc):\n",
    "    loc = str(loc)\n",
    "    loc = loc.strip(\"()\").split(',')\n",
    "    lat, long = map(float, loc)\n",
    "    point = Point(long, lat)\n",
    "    return point"
   ]
  },
  {
   "cell_type": "code",
   "execution_count": null,
   "id": "6fa6738f",
   "metadata": {},
   "outputs": [],
   "source": [
    "pd_data['Coordinates'] = pd_data['Location'].apply(get_point)\n",
    "gdf = gpd.GeoDataFrame(pd_data, geometry='Coordinates')"
   ]
  },
  {
   "cell_type": "code",
   "execution_count": null,
   "id": "6b5c4c82",
   "metadata": {},
   "outputs": [],
   "source": [
    "boston_bg = gpd.read_file('2020_Census_Block_Groups_in_Boston.shp')"
   ]
  },
  {
   "cell_type": "code",
   "execution_count": null,
   "id": "25b9ef66",
   "metadata": {},
   "outputs": [],
   "source": [
    "gdf = gdf.set_crs(\"EPSG:4326\")\n",
    "#gdf = gdf.to_crs('EPSG:2249')\n",
    "boston_bg = boston_bg.set_crs('EPSG:2249', allow_override=True)\n",
    "boston_bg = boston_bg.to_crs('EPSG:4326')"
   ]
  },
  {
   "cell_type": "code",
   "execution_count": null,
   "id": "4b731f0c",
   "metadata": {},
   "outputs": [],
   "source": [
    "print(gdf.crs)  # Check CRS of the GeoDataFrame\n",
    "print(boston_bg.crs)"
   ]
  },
  {
   "cell_type": "code",
   "execution_count": null,
   "id": "3e3c5388",
   "metadata": {},
   "outputs": [],
   "source": [
    "joined_gdf = gpd.sjoin(gdf, boston_bg, how='right', predicate='within')"
   ]
  },
  {
   "cell_type": "code",
   "execution_count": null,
   "id": "5530ebb5",
   "metadata": {},
   "outputs": [],
   "source": [
    "joined_df = joined_gdf.set_geometry('geometry', crs = 'EPSG:4326')"
   ]
  },
  {
   "cell_type": "code",
   "execution_count": null,
   "id": "5f5da4ce",
   "metadata": {},
   "outputs": [],
   "source": [
    "to_map = gpd.GeoDataFrame(joined_gdf.groupby(['DATE', 'geometry'], as_index = False)['SERIOUS'].sum())\n",
    "to_map = to_map.set_geometry('geometry', crs = 'EPSG:4326')"
   ]
  },
  {
   "cell_type": "code",
   "execution_count": null,
   "id": "e6943d0b",
   "metadata": {},
   "outputs": [],
   "source": [
    "to_map['DATE'] = pd.to_datetime(to_map['DATE'], format='%Y %m')\n",
    "#to_map['DATE'] = to_map['DATE'].dt.strftime('%Y-%m')"
   ]
  },
  {
   "cell_type": "code",
   "execution_count": null,
   "id": "0261497c",
   "metadata": {},
   "outputs": [],
   "source": [
    "import plotly.express as px\n",
    "import json"
   ]
  },
  {
   "cell_type": "code",
   "execution_count": null,
   "id": "d878c062",
   "metadata": {},
   "outputs": [],
   "source": [
    "minx, miny, maxx, maxy = to_map.total_bounds"
   ]
  },
  {
   "cell_type": "code",
   "execution_count": null,
   "id": "a0a0178b",
   "metadata": {},
   "outputs": [],
   "source": [
    "minx= minx-10\n",
    "miny=miny-10\n",
    "maxx=maxx+10\n",
    "maxy=maxy+10"
   ]
  },
  {
   "cell_type": "code",
   "execution_count": null,
   "id": "df89714c",
   "metadata": {},
   "outputs": [],
   "source": [
    "fig = px.choropleth_mapbox(to_map, geojson = to_map.geometry, color = \"SERIOUS\", \n",
    "                           mapbox_style=\"carto-positron\", animation_frame = 'DATE')"
   ]
  },
  {
   "cell_type": "code",
   "execution_count": null,
   "id": "a5ee2179",
   "metadata": {},
   "outputs": [],
   "source": [
    "fig.update_layout(\n",
    "    mapbox_bounds = {'west': minx, 'east': maxx, 'south': miny, 'north':maxy}\n",
    "    mapbox_center={\"lat\": 42.3399, \"lon\": -71.0899},  \n",
    "    mapbox_zoom=3 \n",
    ")"
   ]
  },
  {
   "cell_type": "code",
   "execution_count": null,
   "id": "59e6ecb1",
   "metadata": {},
   "outputs": [],
   "source": [
    "fig.show()"
   ]
  },
  {
   "cell_type": "code",
   "execution_count": null,
   "id": "0c8d7652",
   "metadata": {},
   "outputs": [],
   "source": [
    "fig.save(\"test_chloro.html\")"
   ]
  }
 ],
 "metadata": {
  "kernelspec": {
   "display_name": "Python 3 (ipykernel)",
   "language": "python",
   "name": "python3"
  },
  "language_info": {
   "codemirror_mode": {
    "name": "ipython",
    "version": 3
   },
   "file_extension": ".py",
   "mimetype": "text/x-python",
   "name": "python",
   "nbconvert_exporter": "python",
   "pygments_lexer": "ipython3",
   "version": "3.9.18"
  }
 },
 "nbformat": 4,
 "nbformat_minor": 5
}
